{
 "cells": [
  {
   "cell_type": "code",
   "execution_count": 1,
   "metadata": {},
   "outputs": [],
   "source": [
    "import sqlite3\n",
    "import pandas as pd"
   ]
  },
  {
   "cell_type": "markdown",
   "metadata": {},
   "source": [
    "### 1. Читаем данные"
   ]
  },
  {
   "cell_type": "code",
   "execution_count": 2,
   "metadata": {},
   "outputs": [],
   "source": [
    "stat = pd.read_csv(\"statistic_marvel.csv\", index_col=0, encoding=\"UTF-8\")\n",
    "budget = pd.read_csv(\"budget_marvel.csv\", index_col=0, encoding=\"UTF-8\")"
   ]
  },
  {
   "cell_type": "code",
   "execution_count": 3,
   "metadata": {},
   "outputs": [
    {
     "data": {
      "text/html": [
       "<div>\n",
       "<style scoped>\n",
       "    .dataframe tbody tr th:only-of-type {\n",
       "        vertical-align: middle;\n",
       "    }\n",
       "\n",
       "    .dataframe tbody tr th {\n",
       "        vertical-align: top;\n",
       "    }\n",
       "\n",
       "    .dataframe thead th {\n",
       "        text-align: right;\n",
       "    }\n",
       "</style>\n",
       "<table border=\"1\" class=\"dataframe\">\n",
       "  <thead>\n",
       "    <tr style=\"text-align: right;\">\n",
       "      <th></th>\n",
       "      <th>Film_id</th>\n",
       "      <th>Original_Title</th>\n",
       "      <th>Company</th>\n",
       "      <th>Rate</th>\n",
       "      <th>Metascore</th>\n",
       "      <th>Minutes</th>\n",
       "      <th>Release</th>\n",
       "    </tr>\n",
       "  </thead>\n",
       "  <tbody>\n",
       "    <tr>\n",
       "      <th>0</th>\n",
       "      <td>1</td>\n",
       "      <td>Iron Man</td>\n",
       "      <td>Marvel</td>\n",
       "      <td>7.9</td>\n",
       "      <td>79</td>\n",
       "      <td>126</td>\n",
       "      <td>2008</td>\n",
       "    </tr>\n",
       "    <tr>\n",
       "      <th>1</th>\n",
       "      <td>2</td>\n",
       "      <td>The Incredible Hulk</td>\n",
       "      <td>Marvel</td>\n",
       "      <td>6.7</td>\n",
       "      <td>61</td>\n",
       "      <td>112</td>\n",
       "      <td>2008</td>\n",
       "    </tr>\n",
       "    <tr>\n",
       "      <th>2</th>\n",
       "      <td>3</td>\n",
       "      <td>Iron Man 2</td>\n",
       "      <td>Marvel</td>\n",
       "      <td>7.0</td>\n",
       "      <td>57</td>\n",
       "      <td>124</td>\n",
       "      <td>2010</td>\n",
       "    </tr>\n",
       "    <tr>\n",
       "      <th>3</th>\n",
       "      <td>4</td>\n",
       "      <td>Thor</td>\n",
       "      <td>Marvel</td>\n",
       "      <td>7.0</td>\n",
       "      <td>57</td>\n",
       "      <td>115</td>\n",
       "      <td>2011</td>\n",
       "    </tr>\n",
       "    <tr>\n",
       "      <th>4</th>\n",
       "      <td>5</td>\n",
       "      <td>Captain America: The First Avenger</td>\n",
       "      <td>Marvel</td>\n",
       "      <td>6.9</td>\n",
       "      <td>66</td>\n",
       "      <td>124</td>\n",
       "      <td>2011</td>\n",
       "    </tr>\n",
       "  </tbody>\n",
       "</table>\n",
       "</div>"
      ],
      "text/plain": [
       "   Film_id                      Original_Title Company  Rate  Metascore  \\\n",
       "0        1                            Iron Man  Marvel   7.9         79   \n",
       "1        2                 The Incredible Hulk  Marvel   6.7         61   \n",
       "2        3                          Iron Man 2  Marvel   7.0         57   \n",
       "3        4                                Thor  Marvel   7.0         57   \n",
       "4        5  Captain America: The First Avenger  Marvel   6.9         66   \n",
       "\n",
       "   Minutes  Release  \n",
       "0      126     2008  \n",
       "1      112     2008  \n",
       "2      124     2010  \n",
       "3      115     2011  \n",
       "4      124     2011  "
      ]
     },
     "execution_count": 3,
     "metadata": {},
     "output_type": "execute_result"
    }
   ],
   "source": [
    "stat.head(5)"
   ]
  },
  {
   "cell_type": "code",
   "execution_count": 4,
   "metadata": {},
   "outputs": [
    {
     "data": {
      "text/html": [
       "<div>\n",
       "<style scoped>\n",
       "    .dataframe tbody tr th:only-of-type {\n",
       "        vertical-align: middle;\n",
       "    }\n",
       "\n",
       "    .dataframe tbody tr th {\n",
       "        vertical-align: top;\n",
       "    }\n",
       "\n",
       "    .dataframe thead th {\n",
       "        text-align: right;\n",
       "    }\n",
       "</style>\n",
       "<table border=\"1\" class=\"dataframe\">\n",
       "  <thead>\n",
       "    <tr style=\"text-align: right;\">\n",
       "      <th></th>\n",
       "      <th>Film_id</th>\n",
       "      <th>Original_Title</th>\n",
       "      <th>Budget</th>\n",
       "      <th>Opening_Weekend_USA</th>\n",
       "      <th>Gross_USA</th>\n",
       "      <th>Gross_Worldwide</th>\n",
       "    </tr>\n",
       "  </thead>\n",
       "  <tbody>\n",
       "    <tr>\n",
       "      <th>0</th>\n",
       "      <td>1</td>\n",
       "      <td>Iron Man</td>\n",
       "      <td>140000000</td>\n",
       "      <td>98618668</td>\n",
       "      <td>318604126</td>\n",
       "      <td>585366247</td>\n",
       "    </tr>\n",
       "    <tr>\n",
       "      <th>1</th>\n",
       "      <td>2</td>\n",
       "      <td>The Incredible Hulk</td>\n",
       "      <td>150000000</td>\n",
       "      <td>55414050</td>\n",
       "      <td>134806913</td>\n",
       "      <td>263427551</td>\n",
       "    </tr>\n",
       "    <tr>\n",
       "      <th>2</th>\n",
       "      <td>3</td>\n",
       "      <td>Iron Man 2</td>\n",
       "      <td>200000000</td>\n",
       "      <td>128122480</td>\n",
       "      <td>312433331</td>\n",
       "      <td>623933331</td>\n",
       "    </tr>\n",
       "    <tr>\n",
       "      <th>3</th>\n",
       "      <td>4</td>\n",
       "      <td>Thor</td>\n",
       "      <td>150000000</td>\n",
       "      <td>65723338</td>\n",
       "      <td>181030624</td>\n",
       "      <td>449326618</td>\n",
       "    </tr>\n",
       "    <tr>\n",
       "      <th>4</th>\n",
       "      <td>5</td>\n",
       "      <td>Captain America: The First Avenger</td>\n",
       "      <td>140000000</td>\n",
       "      <td>65058524</td>\n",
       "      <td>176654505</td>\n",
       "      <td>370569774</td>\n",
       "    </tr>\n",
       "  </tbody>\n",
       "</table>\n",
       "</div>"
      ],
      "text/plain": [
       "   Film_id                      Original_Title     Budget  \\\n",
       "0        1                            Iron Man  140000000   \n",
       "1        2                 The Incredible Hulk  150000000   \n",
       "2        3                          Iron Man 2  200000000   \n",
       "3        4                                Thor  150000000   \n",
       "4        5  Captain America: The First Avenger  140000000   \n",
       "\n",
       "   Opening_Weekend_USA  Gross_USA  Gross_Worldwide  \n",
       "0             98618668  318604126        585366247  \n",
       "1             55414050  134806913        263427551  \n",
       "2            128122480  312433331        623933331  \n",
       "3             65723338  181030624        449326618  \n",
       "4             65058524  176654505        370569774  "
      ]
     },
     "execution_count": 4,
     "metadata": {},
     "output_type": "execute_result"
    }
   ],
   "source": [
    "budget.head(5)"
   ]
  },
  {
   "cell_type": "markdown",
   "metadata": {},
   "source": [
    "### 2. Создаем БД"
   ]
  },
  {
   "cell_type": "code",
   "execution_count": 5,
   "metadata": {},
   "outputs": [],
   "source": [
    "conn = sqlite3.connect('hw.db')\n",
    "mycursor = conn.cursor()"
   ]
  },
  {
   "cell_type": "code",
   "execution_count": 6,
   "metadata": {},
   "outputs": [
    {
     "data": {
      "text/plain": [
       "<sqlite3.Cursor at 0x7f5cb85420a0>"
      ]
     },
     "execution_count": 6,
     "metadata": {},
     "output_type": "execute_result"
    }
   ],
   "source": [
    "conn.execute(\"PRAGMA foreign_keys = ON\")"
   ]
  },
  {
   "cell_type": "markdown",
   "metadata": {},
   "source": [
    "#### 2.1. Создаем таблицы"
   ]
  },
  {
   "cell_type": "code",
   "execution_count": 7,
   "metadata": {},
   "outputs": [
    {
     "data": {
      "text/plain": [
       "<sqlite3.Cursor at 0x7f5cb8542260>"
      ]
     },
     "execution_count": 7,
     "metadata": {},
     "output_type": "execute_result"
    }
   ],
   "source": [
    "conn.execute('''CREATE TABLE IF NOT EXISTS statistics (\n",
    "Film_id INTEGER PRIMARY KEY,\n",
    "Original_Title TEXT,\n",
    "Company TEXT,\n",
    "Rate FLOAT, \n",
    "Metascore INTEGER, \n",
    "Minutes INTEGER, \n",
    "Release INTEGER\n",
    ")''')"
   ]
  },
  {
   "cell_type": "code",
   "execution_count": 8,
   "metadata": {},
   "outputs": [
    {
     "data": {
      "text/plain": [
       "<sqlite3.Cursor at 0x7f5cb8542730>"
      ]
     },
     "execution_count": 8,
     "metadata": {},
     "output_type": "execute_result"
    }
   ],
   "source": [
    "conn.execute('''CREATE TABLE IF NOT EXISTS budget (\n",
    "Film_id INTEGER PRIMARY KEY,\n",
    "Original_Title TEXT,\n",
    "Budget INTEGER,\n",
    "Opening_Weekend_USA INTEGER,\n",
    "Gross_USA INTEGER,\n",
    "Gross_Worldwide INTEGER,\n",
    "FOREIGN KEY (Film_id) REFERENCES statistics(Film_id)\n",
    "ON UPDATE CASCADE\n",
    "ON DELETE CASCADE\n",
    ")''')"
   ]
  },
  {
   "cell_type": "markdown",
   "metadata": {},
   "source": [
    "#### 2.2. Подгружаем к ним данные"
   ]
  },
  {
   "cell_type": "code",
   "execution_count": 9,
   "metadata": {},
   "outputs": [],
   "source": [
    "stat.to_sql('statistics', conn, if_exists='append', index=False)"
   ]
  },
  {
   "cell_type": "code",
   "execution_count": 10,
   "metadata": {},
   "outputs": [],
   "source": [
    "budget.to_sql('budget', conn, if_exists='append', index=False)"
   ]
  },
  {
   "cell_type": "code",
   "execution_count": 11,
   "metadata": {},
   "outputs": [
    {
     "data": {
      "text/plain": [
       "(1, 'Iron Man', 'Marvel', 7.9, 79, 126, 2008)"
      ]
     },
     "execution_count": 11,
     "metadata": {},
     "output_type": "execute_result"
    }
   ],
   "source": [
    "conn.execute(\"SELECT * FROM statistics\").fetchone()"
   ]
  },
  {
   "cell_type": "code",
   "execution_count": 12,
   "metadata": {},
   "outputs": [
    {
     "data": {
      "text/plain": [
       "(1, 'Iron Man', 140000000, 98618668, 318604126, 585366247)"
      ]
     },
     "execution_count": 12,
     "metadata": {},
     "output_type": "execute_result"
    }
   ],
   "source": [
    "conn.execute(\"SELECT * FROM budget\").fetchone()"
   ]
  },
  {
   "cell_type": "markdown",
   "metadata": {},
   "source": [
    "#### 2.3. Тестируем команду UPDATE"
   ]
  },
  {
   "cell_type": "code",
   "execution_count": 13,
   "metadata": {},
   "outputs": [
    {
     "data": {
      "text/plain": [
       "[(5, 'Captain America: The First Avenger', 'Marvel', 10.0, 66, 124, 2011)]"
      ]
     },
     "execution_count": 13,
     "metadata": {},
     "output_type": "execute_result"
    }
   ],
   "source": [
    "upd = '''UPDATE statistics SET Rate=10 WHERE Original_Title=\"Captain America: The First Avenger\"'''\n",
    "\n",
    "mycursor.execute(upd)\n",
    "\n",
    "conn.execute('''SELECT * FROM statistics WHERE Original_Title=\"Captain America: The First Avenger\"''').fetchall()"
   ]
  },
  {
   "cell_type": "markdown",
   "metadata": {},
   "source": [
    "#### 2.4. Тестируем команду DELETE"
   ]
  },
  {
   "cell_type": "code",
   "execution_count": 15,
   "metadata": {},
   "outputs": [
    {
     "data": {
      "text/plain": [
       "[(1, 'Iron Man', 140000000, 98618668, 318604126, 585366247),\n",
       " (3, 'Iron Man 2', 200000000, 128122480, 312433331, 623933331),\n",
       " (6, 'The Avengers', 220000000, 207438708, 623357910, 1518812988),\n",
       " (7, 'Iron Man Three', 200000000, 174144585, 409013994, 1214811252),\n",
       " (10, 'Guardians of the Galaxy', 170000000, 94320883, 333176600, 772776600)]"
      ]
     },
     "execution_count": 15,
     "metadata": {},
     "output_type": "execute_result"
    }
   ],
   "source": [
    "dlt = '''DELETE FROM budget WHERE Gross_USA < 300000000'''\n",
    "\n",
    "mycursor.execute(dlt)\n",
    "\n",
    "conn.execute('''SELECT * FROM budget WHERE Gross_USA > 300000000''').fetchmany(5)"
   ]
  },
  {
   "cell_type": "markdown",
   "metadata": {},
   "source": [
    "#### 2.5. Тестируем команду CASCADE"
   ]
  },
  {
   "cell_type": "code",
   "execution_count": 16,
   "metadata": {},
   "outputs": [
    {
     "data": {
      "text/plain": [
       "[(30, 'Green Lantern', 'DC', 5.5, 39, 114, 2011),\n",
       " (31, 'The Dark Knight Rises', 'DC', 8.4, 78, 164, 2012),\n",
       " (32, 'Man of Steel', 'DC', 7.1, 55, 143, 2013),\n",
       " (33, 'Batman v Superman: Dawn of Justice', 'DC', 6.5, 44, 151, 2016),\n",
       " (34, 'Suicide Squad\\xa0', 'DC', 6.0, 40, 123, 2016),\n",
       " (35, 'Wonder Woman', 'DC', 7.4, 76, 141, 2017),\n",
       " (36, 'Justice League', 'DC', 6.4, 45, 120, 2017),\n",
       " (37, 'Aquaman', 'DC', 7.0, 55, 143, 2018),\n",
       " (38, 'Shazam!', 'DC', 7.1, 71, 132, 2019),\n",
       " (39, 'Joker', 'DC', 8.7, 59, 122, 2019)]"
      ]
     },
     "execution_count": 16,
     "metadata": {},
     "output_type": "execute_result"
    }
   ],
   "source": [
    "dlt_cascade = '''DELETE FROM statistics WHERE Film_id < 30'''\n",
    "\n",
    "mycursor.execute(dlt_cascade)\n",
    "\n",
    "conn.execute('''SELECT * FROM statistics''').fetchall()"
   ]
  },
  {
   "cell_type": "code",
   "execution_count": null,
   "metadata": {},
   "outputs": [],
   "source": [
    "conn.execute('''SELECT * FROM budget''').fetchall()"
   ]
  },
  {
   "cell_type": "markdown",
   "metadata": {},
   "source": [
    "### 3. Комитим изменения и отключаемся от БД"
   ]
  },
  {
   "cell_type": "code",
   "execution_count": null,
   "metadata": {},
   "outputs": [],
   "source": [
    "conn.commit()"
   ]
  },
  {
   "cell_type": "code",
   "execution_count": null,
   "metadata": {},
   "outputs": [],
   "source": [
    "mycursor.close()\n",
    "conn.close()"
   ]
  }
 ],
 "metadata": {
  "kernelspec": {
   "display_name": "Python 3",
   "language": "python",
   "name": "python3"
  },
  "language_info": {
   "codemirror_mode": {
    "name": "ipython",
    "version": 3
   },
   "file_extension": ".py",
   "mimetype": "text/x-python",
   "name": "python",
   "nbconvert_exporter": "python",
   "pygments_lexer": "ipython3",
   "version": "3.8.3"
  }
 },
 "nbformat": 4,
 "nbformat_minor": 4
}
