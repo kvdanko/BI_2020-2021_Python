{
 "cells": [
  {
   "cell_type": "code",
   "execution_count": 4,
   "metadata": {},
   "outputs": [],
   "source": [
    "import cv2\n",
    "import numpy as np\n",
    "from matplotlib import pyplot as plt"
   ]
  },
  {
   "cell_type": "code",
   "execution_count": 5,
   "metadata": {},
   "outputs": [],
   "source": [
    "image = cv2.imread('bubbles.jpg')\n",
    "output = image.copy()\n",
    "img = cv2.cvtColor(image, cv2.COLOR_BGR2GRAY)"
   ]
  },
  {
   "cell_type": "code",
   "execution_count": 8,
   "metadata": {},
   "outputs": [
    {
     "data": {
      "text/plain": [
       "-1"
      ]
     },
     "execution_count": 8,
     "metadata": {},
     "output_type": "execute_result"
    }
   ],
   "source": [
    "# Find circles\n",
    "circles = cv2.HoughCircles(img, cv2.HOUGH_GRADIENT, 1.3, 100)\n",
    "# If some circle is found\n",
    "if circles is not None:\n",
    "   # Get the (x, y, r) as integers\n",
    "   circles = np.round(circles[0, :]).astype(\"int\")\n",
    "   # loop over the circles\n",
    "   for (x, y, r) in circles:\n",
    "      cv2.circle(output, (x, y), r, (0, 255, 0), 2)\n",
    "# show the output image\n",
    "cv2.imshow(\"circle\",output)\n",
    "cv2.waitKey(1)"
   ]
  },
  {
   "cell_type": "code",
   "execution_count": 10,
   "metadata": {},
   "outputs": [],
   "source": [
    "cv2.destroyWindow(\"circle\")"
   ]
  }
 ],
 "metadata": {
  "kernelspec": {
   "display_name": "Python 3",
   "language": "python",
   "name": "python3"
  },
  "language_info": {
   "codemirror_mode": {
    "name": "ipython",
    "version": 3
   },
   "file_extension": ".py",
   "mimetype": "text/x-python",
   "name": "python",
   "nbconvert_exporter": "python",
   "pygments_lexer": "ipython3",
   "version": "3.8.3"
  }
 },
 "nbformat": 4,
 "nbformat_minor": 4
}
